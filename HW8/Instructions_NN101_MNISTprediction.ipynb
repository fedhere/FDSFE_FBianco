{
  "nbformat": 4,
  "nbformat_minor": 0,
  "metadata": {
    "colab": {
      "provenance": [],
      "gpuType": "T4",
      "authorship_tag": "ABX9TyOF0x6idJe6UjV6FaaS5MMW",
      "include_colab_link": true
    },
    "kernelspec": {
      "name": "python3",
      "display_name": "Python 3"
    },
    "language_info": {
      "name": "python"
    },
    "accelerator": "GPU"
  },
  "cells": [
    {
      "cell_type": "markdown",
      "metadata": {
        "id": "view-in-github",
        "colab_type": "text"
      },
      "source": [
        "<a href=\"https://colab.research.google.com/github/fedhere/FDSFE_FBianco/blob/main/HW8/Instructions_NN101_MNISTprediction.ipynb\" target=\"_parent\"><img src=\"https://colab.research.google.com/assets/colab-badge.svg\" alt=\"Open In Colab\"/></a>"
      ]
    },
    {
      "cell_type": "markdown",
      "source": [
        "The goal of this homework is to create three neural network to solve the same problem and compare the performance of each. The problem is the classic prediction of hand written digits. We use the MNIST benchmark dataset which contains 60,000 images of handwritten digits and the corresponding labels"
      ],
      "metadata": {
        "id": "jrZz8vX-m7iG"
      }
    },
    {
      "cell_type": "code",
      "execution_count": null,
      "metadata": {
        "id": "gfUuRbTECORT"
      },
      "outputs": [],
      "source": [
        "import tensorflow as tf\n",
        "import matplotlib.pyplot as plt\n",
        "import numpy as np\n"
      ]
    },
    {
      "cell_type": "code",
      "source": [
        "#download the data\n",
        "mnist = tf.keras.datasets.mnist\n",
        "(x_train, y_train), (x_test, y_test) = mnist.load_data()"
      ],
      "metadata": {
        "colab": {
          "base_uri": "https://localhost:8080/"
        },
        "id": "CI-jucDYC03Z",
        "outputId": "201010e7-2125-4f72-c4c2-1e59380a5714"
      },
      "execution_count": null,
      "outputs": [
        {
          "output_type": "stream",
          "name": "stdout",
          "text": [
            "Downloading data from https://storage.googleapis.com/tensorflow/tf-keras-datasets/mnist.npz\n",
            "\u001b[1m11490434/11490434\u001b[0m \u001b[32m━━━━━━━━━━━━━━━━━━━━\u001b[0m\u001b[37m\u001b[0m \u001b[1m0s\u001b[0m 0us/step\n"
          ]
        }
      ]
    },
    {
      "cell_type": "code",
      "source": [
        "# how many labels are available?\n",
        "y_train.shape"
      ],
      "metadata": {
        "colab": {
          "base_uri": "https://localhost:8080/"
        },
        "id": "iuD_VG7EDcrW",
        "outputId": "366fc336-2af6-4169-aa4e-b054a8106efb"
      },
      "execution_count": null,
      "outputs": [
        {
          "output_type": "execute_result",
          "data": {
            "text/plain": [
              "(60000,)"
            ]
          },
          "metadata": {},
          "execution_count": 3
        }
      ]
    },
    {
      "cell_type": "code",
      "source": [
        "#what is the shape of the postage stamps that constitute the dataset?\n",
        "x_train.shape"
      ],
      "metadata": {
        "colab": {
          "base_uri": "https://localhost:8080/"
        },
        "id": "aFbX8xlEDzHh",
        "outputId": "a48da575-469d-4db6-ccc3-a93602cb27a0"
      },
      "execution_count": null,
      "outputs": [
        {
          "output_type": "execute_result",
          "data": {
            "text/plain": [
              "(60000, 28, 28)"
            ]
          },
          "metadata": {},
          "execution_count": 4
        }
      ]
    },
    {
      "cell_type": "code",
      "source": [
        "# show the first input data object\n",
        "\n",
        "YOUR CODE GOES HERE"
      ],
      "metadata": {
        "colab": {
          "base_uri": "https://localhost:8080/",
          "height": 447
        },
        "id": "wlAJPOVzD3Kn",
        "outputId": "9feeea97-7da6-43a3-88b9-5d41aa54050a"
      },
      "execution_count": null,
      "outputs": [
        {
          "output_type": "execute_result",
          "data": {
            "text/plain": [
              "<matplotlib.image.AxesImage at 0x7c17f1d76fb0>"
            ]
          },
          "metadata": {},
          "execution_count": 5
        },
        {
          "output_type": "display_data",
          "data": {
            "text/plain": [
              "<Figure size 640x480 with 1 Axes>"
            ],
            "image/png": "[encoded data removed]"
          },
          "metadata": {}
        }
      ]
    },
    {
      "cell_type": "code",
      "source": [
        "# check how many possible values are in the target variable\n",
        "# your code goes here"
      ],
      "metadata": {
        "id": "EEBSFCPuEAyQ"
      },
      "execution_count": null,
      "outputs": []
    },
    {
      "cell_type": "code",
      "source": [
        "# check what is the minimum and maximum value and data type of the features dataset\n",
        "# your code goes here"
      ],
      "metadata": {
        "id": "4tjUUsqOELhP"
      },
      "execution_count": null,
      "outputs": []
    },
    {
      "cell_type": "code",
      "source": [
        "# scale the imput data so that it is min=0 and max=1 (min-max scaling) and that the values are floating point objects\n",
        "# your code goes here"
      ],
      "metadata": {
        "id": "O9c7pvCiEPBT"
      },
      "execution_count": null,
      "outputs": []
    },
    {
      "cell_type": "code",
      "source": [
        "# the shape should have not changed\n",
        "x_train.shape"
      ],
      "metadata": {
        "colab": {
          "base_uri": "https://localhost:8080/"
        },
        "id": "ojr_ateAElqV",
        "outputId": "4f41d506-287a-4358-e366-b7bb75621209"
      },
      "execution_count": null,
      "outputs": [
        {
          "output_type": "execute_result",
          "data": {
            "text/plain": [
              "(60000, 28, 28)"
            ]
          },
          "metadata": {},
          "execution_count": 9
        }
      ]
    },
    {
      "cell_type": "code",
      "source": [
        "#the number of pixels in the data is\n",
        "28*28"
      ],
      "metadata": {
        "colab": {
          "base_uri": "https://localhost:8080/"
        },
        "id": "-P9gsr1rGNvq",
        "outputId": "6dac51ee-89f2-4608-98cd-2809f3abd1d0"
      },
      "execution_count": null,
      "outputs": [
        {
          "output_type": "execute_result",
          "data": {
            "text/plain": [
              "784"
            ]
          },
          "metadata": {},
          "execution_count": 10
        }
      ]
    },
    {
      "cell_type": "markdown",
      "source": [
        "# Build the first Artificial Neural Network\n",
        "solve the problem as a regression - see slides for the appropriate choices\n",
        "\n",
        "- use dense layers\n",
        "- choose the right number of neurons in output to solve a _regression_ problem\n",
        "- choose the right activation function on the last layer for a _regression_ problem\n",
        "- chose the right loss function for a _regression_ problem\n"
      ],
      "metadata": {
        "id": "RIQNmcwcn1li"
      }
    },
    {
      "cell_type": "code",
      "source": [
        "# architecture hyperparametrs\n",
        "model = tf.keras.models.Sequential()\n",
        "model.add(tf.keras.layers.Flatten(input_shape=(28,28)))\n",
        "# add 1 dense layer with 128 neurons and relu activation function\n",
        "# add 1 dropout layers dropping 20% of the connections\n",
        "# add 1 dense layer with 10 neurons\n",
        "# add the output  layer with 1\n",
        "# your code goes here\n",
        "model.add(tf.keras.layers.Flatten(input_shape=(28,28)))\n",
        "model.add(tf.keras.layers.Dense(128, activation='relu'))\n",
        "model.add(tf.keras.layers.Dropout(0.2))\n",
        "model.add(tf.keras.layers.Dense(10))\n",
        "model.add(tf.keras.layers.Dense(1))\n",
        "model.summary()\n"
      ],
      "metadata": {
        "colab": {
          "base_uri": "https://localhost:8080/",
          "height": 344
        },
        "id": "k0ais0jQEzz4",
        "outputId": "d6eb449f-a675-49d3-e746-2ec60a7c8779"
      },
      "execution_count": null,
      "outputs": [
        {
          "output_type": "stream",
          "name": "stderr",
          "text": [
            "/usr/local/lib/python3.10/dist-packages/keras/src/layers/reshaping/flatten.py:37: UserWarning: Do not pass an `input_shape`/`input_dim` argument to a layer. When using Sequential models, prefer using an `Input(shape)` object as the first layer in the model instead.\n",
            "  super().__init__(**kwargs)\n"
          ]
        },
        {
          "output_type": "display_data",
          "data": {
            "text/plain": [
              "\u001b[1mModel: \"sequential\"\u001b[0m\n"
            ],
            "text/html": [
              "<pre style=\"white-space:pre;overflow-x:auto;line-height:normal;font-family:Menlo,'DejaVu Sans Mono',consolas,'Courier New',monospace\"><span style=\"font-weight: bold\">Model: \"sequential\"</span>\n",
              "</pre>\n"
            ]
          },
          "metadata": {}
        },
        {
          "output_type": "display_data",
          "data": {
            "text/plain": [
              "┏━━━━━━━━━━━━━━━━━━━━━━━━━━━━━━━━━━━━━━┳━━━━━━━━━━━━━━━━━━━━━━━━━━━━━┳━━━━━━━━━━━━━━━━━┓\n",
              "┃\u001b[1m \u001b[0m\u001b[1mLayer (type)                        \u001b[0m\u001b[1m \u001b[0m┃\u001b[1m \u001b[0m\u001b[1mOutput Shape               \u001b[0m\u001b[1m \u001b[0m┃\u001b[1m \u001b[0m\u001b[1m        Param #\u001b[0m\u001b[1m \u001b[0m┃\n",
              "┡━━━━━━━━━━━━━━━━━━━━━━━━━━━━━━━━━━━━━━╇━━━━━━━━━━━━━━━━━━━━━━━━━━━━━╇━━━━━━━━━━━━━━━━━┩\n",
              "│ flatten (\u001b[38;5;33mFlatten\u001b[0m)                    │ (\u001b[38;5;45mNone\u001b[0m, \u001b[38;5;34m784\u001b[0m)                 │               \u001b[38;5;34m0\u001b[0m │\n",
              "├──────────────────────────────────────┼─────────────────────────────┼─────────────────┤\n",
              "│ dense (\u001b[38;5;33mDense\u001b[0m)                        │ (\u001b[38;5;45mNone\u001b[0m, \u001b[38;5;34m128\u001b[0m)                 │         \u001b[38;5;34m100,480\u001b[0m │\n",
              "├──────────────────────────────────────┼─────────────────────────────┼─────────────────┤\n",
              "│ dropout (\u001b[38;5;33mDropout\u001b[0m)                    │ (\u001b[38;5;45mNone\u001b[0m, \u001b[38;5;34m128\u001b[0m)                 │               \u001b[38;5;34m0\u001b[0m │\n",
              "├──────────────────────────────────────┼─────────────────────────────┼─────────────────┤\n",
              "│ dense_1 (\u001b[38;5;33mDense\u001b[0m)                      │ (\u001b[38;5;45mNone\u001b[0m, \u001b[38;5;34m10\u001b[0m)                  │           \u001b[38;5;34m1,290\u001b[0m │\n",
              "├──────────────────────────────────────┼─────────────────────────────┼─────────────────┤\n",
              "│ dense_2 (\u001b[38;5;33mDense\u001b[0m)                      │ (\u001b[38;5;45mNone\u001b[0m, \u001b[38;5;34m1\u001b[0m)                   │              \u001b[38;5;34m11\u001b[0m │\n",
              "└──────────────────────────────────────┴─────────────────────────────┴─────────────────┘\n"
            ],
            "text/html": [
              "<pre style=\"white-space:pre;overflow-x:auto;line-height:normal;font-family:Menlo,'DejaVu Sans Mono',consolas,'Courier New',monospace\">┏━━━━━━━━━━━━━━━━━━━━━━━━━━━━━━━━━━━━━━┳━━━━━━━━━━━━━━━━━━━━━━━━━━━━━┳━━━━━━━━━━━━━━━━━┓\n",
              "┃<span style=\"font-weight: bold\"> Layer (type)                         </span>┃<span style=\"font-weight: bold\"> Output Shape                </span>┃<span style=\"font-weight: bold\">         Param # </span>┃\n",
              "┡━━━━━━━━━━━━━━━━━━━━━━━━━━━━━━━━━━━━━━╇━━━━━━━━━━━━━━━━━━━━━━━━━━━━━╇━━━━━━━━━━━━━━━━━┩\n",
              "│ flatten (<span style=\"color: #0087ff; text-decoration-color: #0087ff\">Flatten</span>)                    │ (<span style=\"color: #00d7ff; text-decoration-color: #00d7ff\">None</span>, <span style=\"color: #00af00; text-decoration-color: #00af00\">784</span>)                 │               <span style=\"color: #00af00; text-decoration-color: #00af00\">0</span> │\n",
              "├──────────────────────────────────────┼─────────────────────────────┼─────────────────┤\n",
              "│ dense (<span style=\"color: #0087ff; text-decoration-color: #0087ff\">Dense</span>)                        │ (<span style=\"color: #00d7ff; text-decoration-color: #00d7ff\">None</span>, <span style=\"color: #00af00; text-decoration-color: #00af00\">128</span>)                 │         <span style=\"color: #00af00; text-decoration-color: #00af00\">100,480</span> │\n",
              "├──────────────────────────────────────┼─────────────────────────────┼─────────────────┤\n",
              "│ dropout (<span style=\"color: #0087ff; text-decoration-color: #0087ff\">Dropout</span>)                    │ (<span style=\"color: #00d7ff; text-decoration-color: #00d7ff\">None</span>, <span style=\"color: #00af00; text-decoration-color: #00af00\">128</span>)                 │               <span style=\"color: #00af00; text-decoration-color: #00af00\">0</span> │\n",
              "├──────────────────────────────────────┼─────────────────────────────┼─────────────────┤\n",
              "│ dense_1 (<span style=\"color: #0087ff; text-decoration-color: #0087ff\">Dense</span>)                      │ (<span style=\"color: #00d7ff; text-decoration-color: #00d7ff\">None</span>, <span style=\"color: #00af00; text-decoration-color: #00af00\">10</span>)                  │           <span style=\"color: #00af00; text-decoration-color: #00af00\">1,290</span> │\n",
              "├──────────────────────────────────────┼─────────────────────────────┼─────────────────┤\n",
              "│ dense_2 (<span style=\"color: #0087ff; text-decoration-color: #0087ff\">Dense</span>)                      │ (<span style=\"color: #00d7ff; text-decoration-color: #00d7ff\">None</span>, <span style=\"color: #00af00; text-decoration-color: #00af00\">1</span>)                   │              <span style=\"color: #00af00; text-decoration-color: #00af00\">11</span> │\n",
              "└──────────────────────────────────────┴─────────────────────────────┴─────────────────┘\n",
              "</pre>\n"
            ]
          },
          "metadata": {}
        },
        {
          "output_type": "display_data",
          "data": {
            "text/plain": [
              "\u001b[1m Total params: \u001b[0m\u001b[38;5;34m101,781\u001b[0m (397.58 KB)\n"
            ],
            "text/html": [
              "<pre style=\"white-space:pre;overflow-x:auto;line-height:normal;font-family:Menlo,'DejaVu Sans Mono',consolas,'Courier New',monospace\"><span style=\"font-weight: bold\"> Total params: </span><span style=\"color: #00af00; text-decoration-color: #00af00\">101,781</span> (397.58 KB)\n",
              "</pre>\n"
            ]
          },
          "metadata": {}
        },
        {
          "output_type": "display_data",
          "data": {
            "text/plain": [
              "\u001b[1m Trainable params: \u001b[0m\u001b[38;5;34m101,781\u001b[0m (397.58 KB)\n"
            ],
            "text/html": [
              "<pre style=\"white-space:pre;overflow-x:auto;line-height:normal;font-family:Menlo,'DejaVu Sans Mono',consolas,'Courier New',monospace\"><span style=\"font-weight: bold\"> Trainable params: </span><span style=\"color: #00af00; text-decoration-color: #00af00\">101,781</span> (397.58 KB)\n",
              "</pre>\n"
            ]
          },
          "metadata": {}
        },
        {
          "output_type": "display_data",
          "data": {
            "text/plain": [
              "\u001b[1m Non-trainable params: \u001b[0m\u001b[38;5;34m0\u001b[0m (0.00 B)\n"
            ],
            "text/html": [
              "<pre style=\"white-space:pre;overflow-x:auto;line-height:normal;font-family:Menlo,'DejaVu Sans Mono',consolas,'Courier New',monospace\"><span style=\"font-weight: bold\"> Non-trainable params: </span><span style=\"color: #00af00; text-decoration-color: #00af00\">0</span> (0.00 B)\n",
              "</pre>\n"
            ]
          },
          "metadata": {}
        }
      ]
    },
    {
      "cell_type": "code",
      "source": [
        "tf.keras.utils.plot_model(model)"
      ],
      "metadata": {
        "colab": {
          "base_uri": "https://localhost:8080/",
          "height": 1000
        },
        "id": "TtClRvLcG4VV",
        "outputId": "e6c12cce-2583-4ceb-fe31-d9d847d2cba8"
      },
      "execution_count": null,
      "outputs": [
        {
          "output_type": "execute_result",
          "data": {
            "image/png": "[encoded data removed]",
            "text/plain": [
              "<IPython.core.display.Image object>"
            ]
          },
          "metadata": {},
          "execution_count": 12
        }
      ]
    },
    {
      "cell_type": "code",
      "source": [
        "# training hyperparameter\n",
        "# choose the MeanSquaredError and Adam as the optimizer\n",
        "\n",
        "loss_fn = tf.keras.losses.MeanSquaredError()\n",
        "optimizer = tf.keras.optimizers.Adam()"
      ],
      "metadata": {
        "id": "gjLqvxoJFTwH"
      },
      "execution_count": null,
      "outputs": []
    },
    {
      "cell_type": "code",
      "source": [
        "#train the model (did you make sure you are using GPUs??)\n",
        "model.compile(optimizer = optimizer, loss = loss_fn,\n",
        "              metrics=['accuracy'])\n",
        "training_history = model.fit(x_train, y_train, epochs=500, validation_split=0.1)"
      ],
      "metadata": {
        "id": "cp73OULPH8aB"
      },
      "execution_count": null,
      "outputs": []
    },
    {
      "cell_type": "markdown",
      "source": [
        "the training_history object contains the loss curves: training loss as `training_history.history[\"loss\"]` and validation loss as `training_history.history[\"val_loss\"]` (note the validation_split argument to model.fit set to 10%).\n",
        "\n",
        "Show the training and validation losses and comment: is the model overfitting? at what epoch did it start to overfit?"
      ],
      "metadata": {
        "id": "ztQ4wTXeoykj"
      }
    },
    {
      "cell_type": "code",
      "source": [
        "plt.plot(.....\n",
        "plt.plot(.....\n",
        "plt.xlabel(....\n",
        "plt.ylabel(...\n",
        "plt.yscale('log') #use log scale for the y axis\n"
      ],
      "metadata": {
        "id": "c80Nmkw7IhXx"
      },
      "execution_count": null,
      "outputs": []
    },
    {
      "cell_type": "code",
      "source": [
        "# is this model overfitting? how woudl you find out? how would you fix it?"
      ],
      "metadata": {
        "id": "NFwv_bNl9QEF"
      },
      "execution_count": null,
      "outputs": []
    },
    {
      "cell_type": "code",
      "source": [
        "#what is the accuracy of the model? use model.evaluat to assess it\n",
        "\n",
        "YOUR CODE GOES HERE"
      ],
      "metadata": {
        "id": "zXe-573CJ9Cd"
      },
      "execution_count": null,
      "outputs": []
    },
    {
      "cell_type": "code",
      "source": [
        "# show the first 5 data points and corresponding predictions\n",
        "\n",
        "YOUR CODE GOES HERE"
      ],
      "metadata": {
        "id": "sfg-VNAtI3Be"
      },
      "execution_count": null,
      "outputs": []
    },
    {
      "cell_type": "code",
      "source": [
        "y_test[:5]"
      ],
      "metadata": {
        "id": "r6kcQLODKJNx"
      },
      "execution_count": null,
      "outputs": []
    },
    {
      "cell_type": "markdown",
      "source": [
        "# Build a ANN to solve the problem as a multiclass classification\n",
        "\n",
        "see slides for the apprioriate choices\n",
        "- use dense layers\n",
        "- choose the right number of neurons in output to solve a multiclass classification problem\n",
        "- choose the right activation function on the last layer for a multiclass classification problem\n",
        "- choose the right loss function for a multiclass classification problem"
      ],
      "metadata": {
        "id": "KM6IbzFFp3vT"
      }
    },
    {
      "cell_type": "code",
      "source": [
        "# modify the architecture hyperparametrs\n",
        "# set the last layer to a 10 nerons dense layer and set the softmax as the activation function for the last layer\n",
        "prob_model = tf.keras.models.Sequential()\n",
        "# add 1 dense layer with 128 neurons and relu activation function\n",
        "# add 1 dropout layers dropping 20% of the connections\n",
        "# add 1 dense layer at the end, how many neurons?\n",
        "# your code goes here\n",
        "prob_model.summary()"
      ],
      "metadata": {
        "id": "sKwIt-WbKPy6"
      },
      "execution_count": null,
      "outputs": []
    },
    {
      "cell_type": "code",
      "source": [
        "tf.keras.utils.plot_model(model)"
      ],
      "metadata": {
        "id": "UwzWCeHR90lq"
      },
      "execution_count": null,
      "outputs": []
    },
    {
      "cell_type": "code",
      "source": [
        "#set the loss to be approprpate for the classification, the optimizer to Adam and compile and fit as before\n",
        "# NOTE: you can either use the Sparse Categorical Loss and leave the labels as they are or use the Categorical Loss but modify the labels to be one-hot-encoded (see slides from class on trees!)\n",
        "loss = ...\n",
        "optimizer = ...\n",
        "prob_model.compile...\n",
        "prob_training_history = ..."
      ],
      "metadata": {
        "id": "r7ye1w0eK3Zd"
      },
      "execution_count": null,
      "outputs": []
    },
    {
      "cell_type": "code",
      "source": [
        "#what is the accuracy of the model? use model.evaluat to assess it\n",
        "\n",
        "YOUR CODE GOES HERE"
      ],
      "metadata": {
        "id": "Hene5EG7Lo8Z"
      },
      "execution_count": null,
      "outputs": []
    },
    {
      "cell_type": "code",
      "source": [
        "# show the first 10 data points and corresponding predictions\n",
        "\n",
        "result = prob_model.predict(x_test[:10])"
      ],
      "metadata": {
        "id": "WPu8ydTFMWTn"
      },
      "execution_count": null,
      "outputs": []
    },
    {
      "cell_type": "code",
      "source": [
        "#show the loss curves and comment\n",
        "plt.plot(.....\n",
        "plt.plot(.....\n",
        "plt.xlabel(....\n",
        "plt.ylabel(...\n",
        "plt.yscale('log') #use log scale for the y axis\n"
      ],
      "metadata": {
        "id": "yTGZvFBnMcsm"
      },
      "execution_count": null,
      "outputs": []
    },
    {
      "cell_type": "markdown",
      "source": [
        "# Build a CNN (convolutional neural network) to solve the problem as a multiclass classification\n",
        "\n",
        "- you do not need the Flatten() layer anymore, the input size is not 728 but (28,28)\n",
        "- use Conv2D layers and MaxPool2D layers alternating them appropriately\n",
        "- use relu activation functions for the convolutional layers\n",
        "- add a dense layer at the end for the prediction\n",
        "- choose the right number of neurons in output to solve a multiclass classification problem\n",
        "- choose the right activation function on the last layer for a multiclass classification problem\n",
        "- choose the right loss function for a multiclass classification problem"
      ],
      "metadata": {
        "id": "k-252KDZLzIy"
      }
    },
    {
      "cell_type": "code",
      "source": [
        "YOUR CODE GOES HERE\n"
      ],
      "metadata": {
        "id": "GwR59UszMQBi"
      },
      "execution_count": null,
      "outputs": []
    },
    {
      "cell_type": "code",
      "source": [
        "#set the loss to be approprpate for the classification, the optimizer to Adam and compile and fit as before\n",
        "# NOTE: you can either use the Sparse Categorical Loss and leave the labels as they are or use the Categorical Loss but modify the labels to be one-hot-encoded (see slides from class on trees!)\n",
        "loss = ...\n",
        "optimizer = ...\n",
        "prob_model.compile...\n",
        "prob_training_history = ..."
      ],
      "metadata": {
        "id": "NtuT2mW5r5FY"
      },
      "execution_count": null,
      "outputs": []
    },
    {
      "cell_type": "code",
      "source": [
        "#what is the accuracy of the model? use model.evaluat to assess it\n",
        "\n",
        "YOUR CODE GOES HERE"
      ],
      "metadata": {
        "id": "tmhi2mdGr5_X"
      },
      "execution_count": null,
      "outputs": []
    },
    {
      "cell_type": "code",
      "source": [
        "# show the first 10 data points and corresponding predictions\n",
        "\n",
        "result = prob_model.predict(x_test[:10])"
      ],
      "metadata": {
        "id": "MwHC9Ai2r-ox"
      },
      "execution_count": null,
      "outputs": []
    },
    {
      "cell_type": "code",
      "source": [
        "#show the loss curves and comment\n",
        "plt.plot(.....\n",
        "plt.plot(.....\n",
        "plt.xlabel(....\n",
        "plt.ylabel(...\n",
        "plt.yscale('log') #use log scale for the y axis\n"
      ],
      "metadata": {
        "id": "9QhnqILIr72Z"
      },
      "execution_count": null,
      "outputs": []
    }
  ]
}